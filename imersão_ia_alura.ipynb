{
  "nbformat": 4,
  "nbformat_minor": 0,
  "metadata": {
    "colab": {
      "provenance": [],
      "authorship_tag": "ABX9TyNw66iNfI9UAziBVuGG1cen",
      "include_colab_link": true
    },
    "kernelspec": {
      "name": "python3",
      "display_name": "Python 3"
    },
    "language_info": {
      "name": "python"
    }
  },
  "cells": [
    {
      "cell_type": "markdown",
      "metadata": {
        "id": "view-in-github",
        "colab_type": "text"
      },
      "source": [
        "<a href=\"https://colab.research.google.com/github/pedro-lucaspyt/ChronoWrite-AI-Storyteller/blob/main/imers%C3%A3o_ia_alura.ipynb\" target=\"_parent\"><img src=\"https://colab.research.google.com/assets/colab-badge.svg\" alt=\"Open In Colab\"/></a>"
      ]
    },
    {
      "cell_type": "code",
      "source": [
        "# Instalação da Google Generative Ai\n",
        "!pip install -q -U google-generativeai"
      ],
      "metadata": {
        "id": "EesgvSg_sltw"
      },
      "execution_count": 2,
      "outputs": []
    },
    {
      "cell_type": "code",
      "source": [
        "# Importação da biblioteca\n",
        "import google.generativeai as genai\n",
        "\n",
        "# Importando o método userdata da biblioteca google.colab\n",
        "from google.colab import userdata\n",
        "\n",
        "# Armazenamento da chave de API\n",
        "api_key = userdata.get(\"SECRET_KEY\")\n",
        "\n",
        "# Configuração da chave de API\n",
        "genai.configure(api_key = api_key)"
      ],
      "metadata": {
        "id": "o2xQV7741MEe"
      },
      "execution_count": 26,
      "outputs": []
    },
    {
      "cell_type": "code",
      "source": [
        "# Escolha do modelo Gemini-pro\n",
        "model = genai.GenerativeModel(\"gemini-pro\")\n",
        "# Input que armazena o momento histórico a ser modificado\n",
        "momento_historico = input(\"Qual momento histórico deseja modificar? \")\n",
        "# Input que armazena a modificação que o usuário deseja fazer no evento em questão\n",
        "prompt = input(f\"O que acontece nesta realidade paralela durante a/o {momento_historico}? \")\n",
        "# Input opcional que conduz a modificação com base no foco em detalhes específicos do evento\n",
        "evento = input(\"Que aspecto específico deste evento histórico você gostaria de modificar? \\n (Pressione Enter para prosseguir sem modificações): \")\n",
        "# Input que seleciona um gênero literário para narrar a história\n",
        "estilo = input(\"Como você gostaria de ler esta história? \\n (Ex: Relato histórico, Ficção científica, Romance, Suspense, Diário, Diálogo, Carta, Poema épico, etc.) \")\n",
        "# Input que armazena a quantidade de parágrafos que terá o texto\n",
        "paragrafos = input(\"Quantos parágrafos você gostaria de que a história tenha? \")\n",
        "\n",
        "# Prompt que será enviada para a ia\n",
        "response = model.generate_content(\n",
        "    f\"Crie uma história alternativa onde {prompt} altera o curso de {evento} durante {momento_historico}. Narrativa em estilo {estilo} com exatamente {paragrafos} parágrafos. Detalhe os eventos-chave e os impactos globais (econômicos, sociais, culturais) em comparação com nossa realidade em um parágrafo próprio e com título. Conclua com um resumo das diferenças mais significativas e sugira outra mudança em {momento_historico} para o usuário em um parágrafo próprio e com título.\",\n",
        "    safety_settings={\n",
        "        'HATE': 'BLOCK_NONE',\n",
        "        'HARASSMENT': 'BLOCK_NONE',\n",
        "        'SEXUAL' : 'BLOCK_NONE',\n",
        "        'DANGEROUS' : 'BLOCK_NONE'\n",
        "    })\n",
        "\n",
        "print()\n",
        "print()\n",
        "# Resultado final\n",
        "print(response.text)"
      ],
      "metadata": {
        "id": "jLaIBS9C0tWN"
      },
      "execution_count": null,
      "outputs": []
    }
  ]
}